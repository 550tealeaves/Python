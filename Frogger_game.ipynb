{
  "nbformat": 4,
  "nbformat_minor": 0,
  "metadata": {
    "colab": {
      "provenance": [],
      "authorship_tag": "ABX9TyMYErVVa1dPwSM5tYnsvkjL",
      "include_colab_link": true
    },
    "kernelspec": {
      "name": "python3",
      "display_name": "Python 3"
    },
    "language_info": {
      "name": "python"
    }
  },
  "cells": [
    {
      "cell_type": "markdown",
      "metadata": {
        "id": "view-in-github",
        "colab_type": "text"
      },
      "source": [
        "<a href=\"https://colab.research.google.com/github/550tealeaves/Python/blob/main/Frogger_game.ipynb\" target=\"_parent\"><img src=\"https://colab.research.google.com/assets/colab-badge.svg\" alt=\"Open In Colab\"/></a>"
      ]
    },
    {
      "cell_type": "code",
      "execution_count": 1,
      "metadata": {
        "colab": {
          "base_uri": "https://localhost:8080/"
        },
        "id": "AdyX13Vtpmgy",
        "outputId": "5df955af-5847-45cc-b2c1-7ca771bdb363"
      },
      "outputs": [
        {
          "output_type": "stream",
          "name": "stdout",
          "text": [
            "pygame 2.6.1 (SDL 2.28.4, Python 3.10.12)\n",
            "Hello from the pygame community. https://www.pygame.org/contribute.html\n"
          ]
        }
      ],
      "source": [
        "# import library\n",
        "import pygame"
      ]
    },
    {
      "cell_type": "code",
      "source": [
        "# initialize pygame\n",
        "pygame.init()"
      ],
      "metadata": {
        "colab": {
          "base_uri": "https://localhost:8080/"
        },
        "id": "IPAvXcnVp0bU",
        "outputId": "d246defa-ddb6-406a-814c-994b070ffb26"
      },
      "execution_count": 2,
      "outputs": [
        {
          "output_type": "execute_result",
          "data": {
            "text/plain": [
              "(4, 1)"
            ]
          },
          "metadata": {},
          "execution_count": 2
        }
      ]
    },
    {
      "cell_type": "code",
      "source": [
        "# size of our screen and caption\n",
        "SCREEN_WIDTH = 800\n",
        "SCREEN_HEIGHT = 800\n",
        "SCREEN_TITLE = \"Froggish\"\n",
        "# screen color in RGB\n",
        "WHITE_COLOR = (255, 255, 255)\n",
        "BLACK_COLOR = (0, 0, 0)"
      ],
      "metadata": {
        "id": "XmZQ-VNNp3D-"
      },
      "execution_count": 3,
      "outputs": []
    },
    {
      "cell_type": "code",
      "source": [
        "# clock to handle FPS\n",
        "clock = pygame.time.Clock()\n",
        "TICK_RATE = 60\n",
        "pygame.font.init()\n",
        "font = pygame.font.SysFont('comicsans', 75)"
      ],
      "metadata": {
        "id": "O2nmaypQp67x"
      },
      "execution_count": 4,
      "outputs": []
    },
    {
      "cell_type": "code",
      "source": [
        "class Game:\n",
        "    def __init__(self, image_path, title, width, height):\n",
        "        self.title = title\n",
        "        self.width = width\n",
        "        self.height = height\n",
        "\n",
        "        # create window of specified size\n",
        "        self.game_screen = pygame.display.set_mode((width, height))\n",
        "        # set the game window color to white\n",
        "        self.game_screen.fill(WHITE_COLOR)\n",
        "        pygame.display.set_caption(title)\n",
        "\n",
        "        background_image = pygame.image.load(image_path)\n",
        "        self.scaled_bkg = pygame.transform.scale(background_image, (width, height))\n",
        "\n",
        "    def runGame(self, level_speed):\n",
        "        isGameOver = False\n",
        "        did_win = False\n",
        "        direction = 0\n",
        "\n",
        "        player_character = PlayerCharacter('frog.png', 375, 700, 50, 50)\n",
        "\n",
        "        enemy_0 = EnemyCharacter('enemy.png', 20, 600, 50, 50)\n",
        "        enemy_0.SPEED *= level_speed\n",
        "\n",
        "        enemy_1 = EnemyCharacter('enemy.png', self.width - 40, 400, 50, 50)\n",
        "        enemy_1.SPEED *= level_speed\n",
        "\n",
        "        enemy_2 = EnemyCharacter('enemy.png', 20, 200, 50, 50)\n",
        "        enemy_2.SPEED *= level_speed\n",
        "\n",
        "        treasure = GameObjects('treasure.png', 375, 50, 50, 50)\n",
        "\n",
        "       # set up game loop - game loops (often 'while' loops) repeat our code and update the game state (movement, display, etc)\n",
        "        while not isGameOver:\n",
        "            for event in pygame.event.get():\n",
        "                if event.type == pygame.QUIT:   # if event type is a quit event\n",
        "                    isGameOver = True\n",
        "                # detect when key is pressed\n",
        "                direction = pygame.key.get_pressed()\n",
        "                print(event)\n",
        "\n",
        "            self.game_screen.fill(WHITE_COLOR)\n",
        "            self.game_screen.blit(self.scaled_bkg, (0, 0))\n",
        "            treasure.draw(self.game_screen)\n",
        "\n",
        "            player_character.move(direction, self.height)\n",
        "            player_character.draw(self.game_screen)\n",
        "\n",
        "            # demonstrates drawing\n",
        "            # pygame.draw.rect(game_screen, BLACK_COLOR, (350, 350, 100, 100)) # surface, color, (x, y, width, height)\n",
        "            # pygame.draw.circle(game_screen, BLACK_COLOR, (400, 300), 50)\n",
        "            # game_screen.blit(player_image, (375, 375))\n",
        "\n",
        "            enemy_0.move(self.width)\n",
        "            enemy_0.draw(self.game_screen)\n",
        "\n",
        "            # add more enemies based on current level\n",
        "            if level_speed > 2:\n",
        "                enemy_1.move(self.width)\n",
        "                enemy_1.draw(self.game_screen)\n",
        "\n",
        "            # add more enemies based on current level\n",
        "            if level_speed > 4:\n",
        "                enemy_2.move(self.width)\n",
        "                enemy_2.draw(self.game_screen)\n",
        "\n",
        "            # endgame logic / collision detection for enemies and treasure\n",
        "            if player_character.detect_collision(enemy_0) or player_character.detect_collision(enemy_1) or player_character.detect_collision(enemy_2):\n",
        "                isGameOver = True\n",
        "                did_win = False\n",
        "                text = font.render('Game Over :(', True, BLACK_COLOR)\n",
        "                self.game_screen.blit(text, (200, 350))\n",
        "                pygame.display.update()\n",
        "                clock.tick(1)\n",
        "                break\n",
        "            elif player_character.detect_collision(treasure):\n",
        "                isGameOver = True\n",
        "                did_win = True\n",
        "                text = font.render('You won :D', True, BLACK_COLOR)\n",
        "                self.game_screen.blit(text, (200, 350))\n",
        "                pygame.display.update()\n",
        "                clock.tick(1)\n",
        "                break\n",
        "            # update the graphics\n",
        "            pygame.display.update()\n",
        "            # tick our clock and render next frame\n",
        "            clock.tick(TICK_RATE)\n",
        "\n",
        "        # call quit function and exit the program\n",
        "        #pygame.quit()\n",
        "        #quit()\n",
        "        if did_win:\n",
        "            self.runGame(level_speed + 0.5)\n",
        "        else:\n",
        "            return"
      ],
      "metadata": {
        "id": "nCea5Wp1qUff"
      },
      "execution_count": 10,
      "outputs": []
    },
    {
      "cell_type": "code",
      "source": [
        "# Generic class for all game objects\n",
        "class GameObjects:\n",
        "        def __init__(self, image_path, x, y, width, height):\n",
        "            self.x_pos = x\n",
        "            self.y_pos = y\n",
        "            self.width = width\n",
        "            self.height = height\n",
        "\n",
        "            # get each object's image and scale it\n",
        "            object_image = pygame.image.load(image_path)\n",
        "            self.image = pygame.transform.scale(object_image, (width, height))\n",
        "\n",
        "        def draw(self, background):\n",
        "            background.blit(self.image, (self.x_pos, self.y_pos))"
      ],
      "metadata": {
        "id": "KHwqkHwAqYQj"
      },
      "execution_count": 11,
      "outputs": []
    },
    {
      "cell_type": "code",
      "source": [
        "class PlayerCharacter(GameObjects):\n",
        "    SPEED = 10\n",
        "\n",
        "    def __init__(self, image_path, x, y, width, height):\n",
        "        super().__init__(image_path, x, y, width, height)\n",
        "\n",
        "    def move(self, direction, max_height):\n",
        "        # move player based on direction pressed\n",
        "        if direction[pygame.K_UP]:\n",
        "            self.y_pos -= self.SPEED\n",
        "        elif direction[pygame.K_DOWN]:\n",
        "            self.y_pos += self.SPEED\n",
        "        elif direction[pygame.K_LEFT]:\n",
        "            self.x_pos -= self.SPEED\n",
        "        elif direction[pygame.K_RIGHT]:\n",
        "            self.x_pos += self.SPEED\n",
        "\n",
        "        # prevent player from moving below the screen (subtracting the image's height from the screen height)\n",
        "        if self.y_pos >= max_height - self.height:\n",
        "            self.y_pos = max_height - self.height\n",
        "\n",
        "    def detect_collision(self, other_body):\n",
        "        # if below enemy\n",
        "        if self.y_pos > other_body.y_pos + other_body.height:\n",
        "            return False\n",
        "        # if above enemy\n",
        "        elif self.y_pos + self.height < other_body.y_pos:\n",
        "            return False\n",
        "        # if we're to the right of enemy\n",
        "        if self.x_pos > other_body.x_pos + other_body.width:\n",
        "            return False\n",
        "        # if we're to the left of enemy\n",
        "        elif self.x_pos + self.width < other_body.x_pos:\n",
        "            return False\n",
        "        return True"
      ],
      "metadata": {
        "id": "H1PenuTMqy9E"
      },
      "execution_count": 12,
      "outputs": []
    },
    {
      "cell_type": "code",
      "source": [
        "class EnemyCharacter(GameObjects):\n",
        "    SPEED = 5\n",
        "\n",
        "    def __init__(self, image_path, x, y, width, height):\n",
        "        super().__init__(image_path, x, y, width, height)\n",
        "        self.image_path = image_path\n",
        "\n",
        "    def move(self, max_width):\n",
        "        if self.x_pos <= 20:\n",
        "            self.SPEED = abs(self.SPEED)\n",
        "        elif self.x_pos >= max_width - (20 + self.width):\n",
        "            self.SPEED = -abs(self.SPEED)\n",
        "        self.x_pos += self.SPEED\n",
        "\n",
        "\n",
        "new_game = Game('frogger_bkg.png', SCREEN_TITLE, SCREEN_WIDTH, SCREEN_HEIGHT)\n",
        "new_game.runGame(1)"
      ],
      "metadata": {
        "colab": {
          "base_uri": "https://localhost:8080/"
        },
        "id": "dEU6GvEKq2WO",
        "outputId": "b918db9f-1ab5-4b5a-e714-e152f6fc420d"
      },
      "execution_count": null,
      "outputs": [
        {
          "output_type": "stream",
          "name": "stdout",
          "text": [
            "<Event(32774-WindowShown {'window': None})>\n",
            "<Event(32775-WindowHidden {'window': None})>\n",
            "<Event(32774-WindowShown {'window': None})>\n"
          ]
        }
      ]
    }
  ]
}