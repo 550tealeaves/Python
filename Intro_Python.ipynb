{
  "nbformat": 4,
  "nbformat_minor": 0,
  "metadata": {
    "colab": {
      "provenance": [],
      "authorship_tag": "ABX9TyNDpwy/nisvBb4vcdNFPekD",
      "include_colab_link": true
    },
    "kernelspec": {
      "name": "python3",
      "display_name": "Python 3"
    },
    "language_info": {
      "name": "python"
    }
  },
  "cells": [
    {
      "cell_type": "markdown",
      "metadata": {
        "id": "view-in-github",
        "colab_type": "text"
      },
      "source": [
        "<a href=\"https://colab.research.google.com/github/550tealeaves/Python/blob/main/Intro_Python.ipynb\" target=\"_parent\"><img src=\"https://colab.research.google.com/assets/colab-badge.svg\" alt=\"Open In Colab\"/></a>"
      ]
    },
    {
      "cell_type": "code",
      "execution_count": 1,
      "metadata": {
        "colab": {
          "base_uri": "https://localhost:8080/"
        },
        "id": "opezGOt4A03C",
        "outputId": "9093cb5a-e591-4c92-f0fb-91a6c84fc213"
      },
      "outputs": [
        {
          "output_type": "stream",
          "name": "stdout",
          "text": [
            "hello world!\n",
            "hello world!\n"
          ]
        }
      ],
      "source": [
        "print(\"hello world!\")\n",
        "greeting = \"hello world!\"\n",
        "print(greeting)"
      ]
    },
    {
      "cell_type": "code",
      "source": [
        "# function is block of code that takes an input, transforms it, and returns output\n",
        "def add_one(x):\n",
        "  print(x+1)\n",
        "add_one(2) #answer = 3\n",
        "add_one(155)\n",
        "add_one(5)\n",
        "add_one(-1)"
      ],
      "metadata": {
        "colab": {
          "base_uri": "https://localhost:8080/"
        },
        "id": "EyiP-XfPA7C7",
        "outputId": "48d99221-c500-4d05-c363-753929e15136"
      },
      "execution_count": 2,
      "outputs": [
        {
          "output_type": "stream",
          "name": "stdout",
          "text": [
            "3\n",
            "156\n",
            "6\n",
            "0\n"
          ]
        }
      ]
    },
    {
      "cell_type": "code",
      "source": [
        "#print vs returns\n",
        "#print = function that writes out the text - DOES NOT change workflow\n",
        "#return = keyword that stops Python at current execution - sends value from 1 pt of code to another - changes program workflow\n",
        "\n",
        "def add_two(x):\n",
        "  return x+2\n",
        "\n",
        "print(add_two(629))\n",
        "\n",
        "\n",
        "def salutation():\n",
        "  print(\"Hello! How are you doing today?\")\n",
        "salutation()\n",
        "\n",
        "name = \"Ashley\"\n",
        "\n",
        "print(\"hello, \" + name + \", How are you?\")\n",
        "\n",
        "def greet(person):\n",
        "  print(\"Hey \" + person +\", What are your plans for the weekend?\")\n",
        "greet(\"Harriet\")"
      ],
      "metadata": {
        "colab": {
          "base_uri": "https://localhost:8080/"
        },
        "id": "1J2CrjCBA_YV",
        "outputId": "cdc98c68-d507-479d-c0ca-d025eb5bd449"
      },
      "execution_count": 3,
      "outputs": [
        {
          "output_type": "stream",
          "name": "stdout",
          "text": [
            "631\n",
            "Hello! How are you doing today?\n",
            "hello, Ashley, How are you?\n",
            "Hey Harriet, What are your plans for the weekend?\n"
          ]
        }
      ]
    },
    {
      "cell_type": "code",
      "source": [
        "books = ['Gender Trouble', 'Cruising Utopia', 'Living a Feminist Life', 'Persopolis', 'Brave New World']\n",
        "print(books)"
      ],
      "metadata": {
        "colab": {
          "base_uri": "https://localhost:8080/"
        },
        "id": "yAe3mAAqBDnS",
        "outputId": "cd1e27df-5d66-40e3-df3a-81ef96308d35"
      },
      "execution_count": 4,
      "outputs": [
        {
          "output_type": "stream",
          "name": "stdout",
          "text": [
            "['Gender Trouble', 'Cruising Utopia', 'Living a Feminist Life', 'Persopolis', 'Brave New World']\n"
          ]
        }
      ]
    },
    {
      "cell_type": "code",
      "source": [
        "#len() function - provides length of items in list\n",
        "list_length = len(books)\n",
        "print(list_length)"
      ],
      "metadata": {
        "colab": {
          "base_uri": "https://localhost:8080/"
        },
        "id": "ntTd7q9gBIlx",
        "outputId": "5ca4d334-67dc-498a-9410-be5e0d5ca49e"
      },
      "execution_count": 5,
      "outputs": [
        {
          "output_type": "stream",
          "name": "stdout",
          "text": [
            "5\n"
          ]
        }
      ]
    },
    {
      "cell_type": "code",
      "source": [
        "#indexing - pick out items in list\n",
        "print(books[0]) # Gender Trouble\n",
        "print(books[1]) # Cruising Utopia\n",
        "print(books[-1]) # Living a Feminist Life\n",
        "print(books[-3]) #Gender Trouble"
      ],
      "metadata": {
        "colab": {
          "base_uri": "https://localhost:8080/"
        },
        "id": "g4__GhY5BKYz",
        "outputId": "b49e7865-033c-47dc-881f-2515e7a09430"
      },
      "execution_count": 6,
      "outputs": [
        {
          "output_type": "stream",
          "name": "stdout",
          "text": [
            "Gender Trouble\n",
            "Cruising Utopia\n",
            "Brave New World\n",
            "Living a Feminist Life\n"
          ]
        }
      ]
    },
    {
      "cell_type": "code",
      "source": [
        "#slicing - take out sections of list\n",
        "print(books[0:2]) #Gender Trouble, Cruising Utopia\n",
        "print(books[:2]) #Gender Trouble, Cruising Utopia\n",
        "print(books[1:]) #Cruising Utopia, Living a Feminist Life, Persopolis, Brave New World\n",
        "print(books[-3])"
      ],
      "metadata": {
        "colab": {
          "base_uri": "https://localhost:8080/"
        },
        "id": "nQrDHZ4fBMMA",
        "outputId": "dcc6e657-3603-4c8e-c362-f03853d22485"
      },
      "execution_count": 7,
      "outputs": [
        {
          "output_type": "stream",
          "name": "stdout",
          "text": [
            "['Gender Trouble', 'Cruising Utopia']\n",
            "['Gender Trouble', 'Cruising Utopia']\n",
            "['Cruising Utopia', 'Living a Feminist Life', 'Persopolis', 'Brave New World']\n",
            "Living a Feminist Life\n"
          ]
        }
      ]
    },
    {
      "cell_type": "code",
      "source": [
        "#print middle 3 items\n",
        "print(books[1:4]) #Cruising Utopia, Living a Feminist Life, Persopolis\n",
        "print(len(books[-1])) # 15 - characters in Brave New World"
      ],
      "metadata": {
        "colab": {
          "base_uri": "https://localhost:8080/"
        },
        "id": "FADejxSuBOye",
        "outputId": "7a5b0b7d-4259-4aeb-ee03-f2d1e6fba6c6"
      },
      "execution_count": 8,
      "outputs": [
        {
          "output_type": "stream",
          "name": "stdout",
          "text": [
            "['Cruising Utopia', 'Living a Feminist Life', 'Persopolis']\n",
            "15\n"
          ]
        }
      ]
    },
    {
      "cell_type": "code",
      "source": [
        "# for loops - prints each item in list separately\n",
        "for book in books:\n",
        "  print(\"My favorite book is \" + book)"
      ],
      "metadata": {
        "colab": {
          "base_uri": "https://localhost:8080/"
        },
        "id": "1Xbk5GEWBQpY",
        "outputId": "d3f2f88b-7c1a-48c8-dbbf-7eddabb01a04"
      },
      "execution_count": 9,
      "outputs": [
        {
          "output_type": "stream",
          "name": "stdout",
          "text": [
            "My favorite book is Gender Trouble\n",
            "My favorite book is Cruising Utopia\n",
            "My favorite book is Living a Feminist Life\n",
            "My favorite book is Persopolis\n",
            "My favorite book is Brave New World\n"
          ]
        }
      ]
    },
    {
      "cell_type": "code",
      "source": [
        "#below loops print out each individual letter of the word\n",
        "for letter in \"hello\": # h e l l o\n",
        "  print(letter)\n",
        "\n",
        "for banana in \"alligator\": #a l l i g a t o r\n",
        "  print(banana)"
      ],
      "metadata": {
        "colab": {
          "base_uri": "https://localhost:8080/"
        },
        "id": "41KmgjNxBS6a",
        "outputId": "c927bb20-44c6-434a-d84b-572f444892c8"
      },
      "execution_count": 10,
      "outputs": [
        {
          "output_type": "stream",
          "name": "stdout",
          "text": [
            "h\n",
            "e\n",
            "l\n",
            "l\n",
            "o\n",
            "a\n",
            "l\n",
            "l\n",
            "i\n",
            "g\n",
            "a\n",
            "t\n",
            "o\n",
            "r\n"
          ]
        }
      ]
    },
    {
      "cell_type": "code",
      "source": [
        "prime_numbers = [2, 3, 5, 7, 11]\n",
        "\n",
        "#Print out the square of these #s - for loop\n",
        "for number in prime_numbers:\n",
        "  print(number*number)\n",
        "\n",
        "#Use f-strings to write loop with this output\n",
        "for number in prime_numbers:\n",
        "  print(f\"The square of {number} is {number*number}\")"
      ],
      "metadata": {
        "colab": {
          "base_uri": "https://localhost:8080/"
        },
        "id": "UhCsLFsKBaTQ",
        "outputId": "1bbf19e4-7434-4ef2-8b28-2c867e37be39"
      },
      "execution_count": 11,
      "outputs": [
        {
          "output_type": "stream",
          "name": "stdout",
          "text": [
            "4\n",
            "9\n",
            "25\n",
            "49\n",
            "121\n",
            "The square of 2 is 4\n",
            "The square of 3 is 9\n",
            "The square of 5 is 25\n",
            "The square of 7 is 49\n",
            "The square of 11 is 121\n"
          ]
        }
      ]
    },
    {
      "cell_type": "code",
      "source": [
        "#IF/ELSE conditionals\n",
        "\"\"\"Else\n",
        "\t• Handles inputs that aren't \"Media Studies\" or whatever the variable is assigned to\n",
        "\t• Fail-safe that catches variables that are not accounted for\n",
        "\n",
        "\n",
        "Elif (else if)\n",
        "\t• Handles multiple inputs\n",
        "\t• Used for other cases outside of if\n",
        "\t• Can add as many elif statements\n",
        "\t• Python code block can have\n",
        "\t\t○ 1 if statement\n",
        "\t\t○ Multiple elif statements\n",
        "\t\t○ 1 else statement (accounting for anything not in if/elif)\n",
        "\"\"\"\n",
        "\n",
        "field = \"Textual Scholarship\"\n",
        "if field ==  \"Media Studies\":\n",
        "    print(\"Grammophone, Film, Typewriter\")\n",
        "elif field == \"Critical University Studies\":\n",
        "    print(\"The Undercommons\")\n",
        "elif field == \"Textual Scholarship\":\n",
        "    print(\"Radiant Textuality\")\n",
        "else:\n",
        "    print(\"I don't know what field you're talking about! I'm just a little program...\")"
      ],
      "metadata": {
        "colab": {
          "base_uri": "https://localhost:8080/"
        },
        "id": "reG_4j96Bd5w",
        "outputId": "6f86a1c4-5130-4859-e106-e5aa5cdfe57e"
      },
      "execution_count": 13,
      "outputs": [
        {
          "output_type": "stream",
          "name": "stdout",
          "text": [
            "Radiant Textuality\n"
          ]
        }
      ]
    },
    {
      "cell_type": "code",
      "source": [
        "#INPUT()\n",
        "\"\"\"\t• Can take input directly from the user using the input() function\n",
        "\t• Assign variable name to input() function\n",
        "\t\t○ Field = input()\n",
        "\t• Include a prompt\n",
        "\t\t○ Input('What field do you want to study?')\n",
        "\t• Get a popup that lets you respond to the prompt\n",
        "\t\t○ \"Textual Scholarship\"\n",
        "\t• If else conditional result shows up in the REPL (terminal)\n",
        "\"\"\"\n",
        "\n",
        "field = input(\"What field do you want to study?\") # will create a popup that asks for input\n",
        "if field ==  \"Media Studies\":\n",
        "    print(\"Grammophone, Film, Typewriter\")\n",
        "elif field == \"Critical University Studies\":\n",
        "    print(\"The Undercommons\")\n",
        "elif field == \"Textual Scholarship\":\n",
        "    print(\"Radiant Textuality\")\n",
        "else:\n",
        "    print(\"I don't know what field you're talking about! I'm just a little program...\")"
      ],
      "metadata": {
        "colab": {
          "base_uri": "https://localhost:8080/"
        },
        "id": "WhRLy4nbBkTh",
        "outputId": "8958636d-5721-4cf3-8747-c9caa12dd7e0"
      },
      "execution_count": 14,
      "outputs": [
        {
          "output_type": "stream",
          "name": "stdout",
          "text": [
            "What field do you want to study?Critical University Studies\n",
            "The Undercommons\n"
          ]
        }
      ]
    },
    {
      "cell_type": "code",
      "source": [],
      "metadata": {
        "id": "TlSgjityBxdL"
      },
      "execution_count": null,
      "outputs": []
    }
  ]
}