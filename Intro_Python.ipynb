{
  "nbformat": 4,
  "nbformat_minor": 0,
  "metadata": {
    "colab": {
      "provenance": [],
      "authorship_tag": "ABX9TyNJFfEESGMDrMV69ra/jEua",
      "include_colab_link": true
    },
    "kernelspec": {
      "name": "python3",
      "display_name": "Python 3"
    },
    "language_info": {
      "name": "python"
    }
  },
  "cells": [
    {
      "cell_type": "markdown",
      "metadata": {
        "id": "view-in-github",
        "colab_type": "text"
      },
      "source": [
        "<a href=\"https://colab.research.google.com/github/550tealeaves/Python/blob/main/Intro_Python.ipynb\" target=\"_parent\"><img src=\"https://colab.research.google.com/assets/colab-badge.svg\" alt=\"Open In Colab\"/></a>"
      ]
    },
    {
      "cell_type": "code",
      "execution_count": null,
      "metadata": {
        "colab": {
          "base_uri": "https://localhost:8080/"
        },
        "id": "opezGOt4A03C",
        "outputId": "9093cb5a-e591-4c92-f0fb-91a6c84fc213"
      },
      "outputs": [
        {
          "output_type": "stream",
          "name": "stdout",
          "text": [
            "hello world!\n",
            "hello world!\n"
          ]
        }
      ],
      "source": [
        "print(\"hello world!\")\n",
        "greeting = \"hello world!\"\n",
        "print(greeting)"
      ]
    },
    {
      "cell_type": "code",
      "source": [
        "# function is block of code that takes an input, transforms it, and returns output\n",
        "def add_one(x):\n",
        "  print(x+1)\n",
        "add_one(2) #answer = 3\n",
        "add_one(155)\n",
        "add_one(5)\n",
        "add_one(-1)"
      ],
      "metadata": {
        "colab": {
          "base_uri": "https://localhost:8080/"
        },
        "id": "EyiP-XfPA7C7",
        "outputId": "48d99221-c500-4d05-c363-753929e15136"
      },
      "execution_count": null,
      "outputs": [
        {
          "output_type": "stream",
          "name": "stdout",
          "text": [
            "3\n",
            "156\n",
            "6\n",
            "0\n"
          ]
        }
      ]
    },
    {
      "cell_type": "code",
      "source": [
        "#print vs returns\n",
        "#print = function that writes out the text - DOES NOT change workflow\n",
        "#return = keyword that stops Python at current execution - sends value from 1 pt of code to another - changes program workflow\n",
        "\n",
        "def add_two(x):\n",
        "  return x+2\n",
        "\n",
        "print(add_two(629))\n",
        "\n",
        "\n",
        "def salutation():\n",
        "  print(\"Hello! How are you doing today?\")\n",
        "salutation()\n",
        "\n",
        "name = \"Ashley\"\n",
        "\n",
        "print(\"hello, \" + name + \", How are you?\")\n",
        "\n",
        "def greet(person):\n",
        "  print(\"Hey \" + person +\", What are your plans for the weekend?\")\n",
        "greet(\"Harriet\")"
      ],
      "metadata": {
        "colab": {
          "base_uri": "https://localhost:8080/"
        },
        "id": "1J2CrjCBA_YV",
        "outputId": "cdc98c68-d507-479d-c0ca-d025eb5bd449"
      },
      "execution_count": null,
      "outputs": [
        {
          "output_type": "stream",
          "name": "stdout",
          "text": [
            "631\n",
            "Hello! How are you doing today?\n",
            "hello, Ashley, How are you?\n",
            "Hey Harriet, What are your plans for the weekend?\n"
          ]
        }
      ]
    },
    {
      "cell_type": "code",
      "source": [
        "books = ['Gender Trouble', 'Cruising Utopia', 'Living a Feminist Life', 'Persopolis', 'Brave New World']\n",
        "print(books)"
      ],
      "metadata": {
        "colab": {
          "base_uri": "https://localhost:8080/"
        },
        "id": "yAe3mAAqBDnS",
        "outputId": "cd1e27df-5d66-40e3-df3a-81ef96308d35"
      },
      "execution_count": null,
      "outputs": [
        {
          "output_type": "stream",
          "name": "stdout",
          "text": [
            "['Gender Trouble', 'Cruising Utopia', 'Living a Feminist Life', 'Persopolis', 'Brave New World']\n"
          ]
        }
      ]
    },
    {
      "cell_type": "code",
      "source": [
        "#len() function - provides length of items in list\n",
        "list_length = len(books)\n",
        "print(list_length)"
      ],
      "metadata": {
        "colab": {
          "base_uri": "https://localhost:8080/"
        },
        "id": "ntTd7q9gBIlx",
        "outputId": "5ca4d334-67dc-498a-9410-be5e0d5ca49e"
      },
      "execution_count": null,
      "outputs": [
        {
          "output_type": "stream",
          "name": "stdout",
          "text": [
            "5\n"
          ]
        }
      ]
    },
    {
      "cell_type": "code",
      "source": [
        "#indexing - pick out items in list\n",
        "print(books[0]) # Gender Trouble\n",
        "print(books[1]) # Cruising Utopia\n",
        "print(books[-1]) # Living a Feminist Life\n",
        "print(books[-3]) #Gender Trouble"
      ],
      "metadata": {
        "colab": {
          "base_uri": "https://localhost:8080/"
        },
        "id": "g4__GhY5BKYz",
        "outputId": "b49e7865-033c-47dc-881f-2515e7a09430"
      },
      "execution_count": null,
      "outputs": [
        {
          "output_type": "stream",
          "name": "stdout",
          "text": [
            "Gender Trouble\n",
            "Cruising Utopia\n",
            "Brave New World\n",
            "Living a Feminist Life\n"
          ]
        }
      ]
    },
    {
      "cell_type": "code",
      "source": [
        "#slicing - take out sections of list\n",
        "print(books[0:2]) #Gender Trouble, Cruising Utopia\n",
        "print(books[:2]) #Gender Trouble, Cruising Utopia\n",
        "print(books[1:]) #Cruising Utopia, Living a Feminist Life, Persopolis, Brave New World\n",
        "print(books[-3])"
      ],
      "metadata": {
        "colab": {
          "base_uri": "https://localhost:8080/"
        },
        "id": "nQrDHZ4fBMMA",
        "outputId": "dcc6e657-3603-4c8e-c362-f03853d22485"
      },
      "execution_count": null,
      "outputs": [
        {
          "output_type": "stream",
          "name": "stdout",
          "text": [
            "['Gender Trouble', 'Cruising Utopia']\n",
            "['Gender Trouble', 'Cruising Utopia']\n",
            "['Cruising Utopia', 'Living a Feminist Life', 'Persopolis', 'Brave New World']\n",
            "Living a Feminist Life\n"
          ]
        }
      ]
    },
    {
      "cell_type": "code",
      "source": [
        "#print middle 3 items\n",
        "print(books[1:4]) #Cruising Utopia, Living a Feminist Life, Persopolis\n",
        "print(len(books[-1])) # 15 - characters in Brave New World"
      ],
      "metadata": {
        "colab": {
          "base_uri": "https://localhost:8080/"
        },
        "id": "FADejxSuBOye",
        "outputId": "7a5b0b7d-4259-4aeb-ee03-f2d1e6fba6c6"
      },
      "execution_count": null,
      "outputs": [
        {
          "output_type": "stream",
          "name": "stdout",
          "text": [
            "['Cruising Utopia', 'Living a Feminist Life', 'Persopolis']\n",
            "15\n"
          ]
        }
      ]
    },
    {
      "cell_type": "code",
      "source": [
        "# for loops - prints each item in list separately\n",
        "for book in books:\n",
        "  print(\"My favorite book is \" + book)"
      ],
      "metadata": {
        "colab": {
          "base_uri": "https://localhost:8080/"
        },
        "id": "1Xbk5GEWBQpY",
        "outputId": "d3f2f88b-7c1a-48c8-dbbf-7eddabb01a04"
      },
      "execution_count": null,
      "outputs": [
        {
          "output_type": "stream",
          "name": "stdout",
          "text": [
            "My favorite book is Gender Trouble\n",
            "My favorite book is Cruising Utopia\n",
            "My favorite book is Living a Feminist Life\n",
            "My favorite book is Persopolis\n",
            "My favorite book is Brave New World\n"
          ]
        }
      ]
    },
    {
      "cell_type": "code",
      "source": [
        "#below loops print out each individual letter of the word\n",
        "for letter in \"hello\": # h e l l o\n",
        "  print(letter)\n",
        "\n",
        "for banana in \"alligator\": #a l l i g a t o r\n",
        "  print(banana)"
      ],
      "metadata": {
        "colab": {
          "base_uri": "https://localhost:8080/"
        },
        "id": "41KmgjNxBS6a",
        "outputId": "c927bb20-44c6-434a-d84b-572f444892c8"
      },
      "execution_count": null,
      "outputs": [
        {
          "output_type": "stream",
          "name": "stdout",
          "text": [
            "h\n",
            "e\n",
            "l\n",
            "l\n",
            "o\n",
            "a\n",
            "l\n",
            "l\n",
            "i\n",
            "g\n",
            "a\n",
            "t\n",
            "o\n",
            "r\n"
          ]
        }
      ]
    },
    {
      "cell_type": "code",
      "source": [
        "prime_numbers = [2, 3, 5, 7, 11]\n",
        "\n",
        "#Print out the square of these #s - for loop\n",
        "for number in prime_numbers:\n",
        "  print(number*number)\n",
        "\n",
        "#Use f-strings to write loop with this output\n",
        "for number in prime_numbers:\n",
        "  print(f\"The square of {number} is {number*number}\")"
      ],
      "metadata": {
        "colab": {
          "base_uri": "https://localhost:8080/"
        },
        "id": "UhCsLFsKBaTQ",
        "outputId": "1bbf19e4-7434-4ef2-8b28-2c867e37be39"
      },
      "execution_count": null,
      "outputs": [
        {
          "output_type": "stream",
          "name": "stdout",
          "text": [
            "4\n",
            "9\n",
            "25\n",
            "49\n",
            "121\n",
            "The square of 2 is 4\n",
            "The square of 3 is 9\n",
            "The square of 5 is 25\n",
            "The square of 7 is 49\n",
            "The square of 11 is 121\n"
          ]
        }
      ]
    },
    {
      "cell_type": "code",
      "source": [
        "#IF/ELSE conditionals\n",
        "\"\"\"Else\n",
        "\t• Handles inputs that aren't \"Media Studies\" or whatever the variable is assigned to\n",
        "\t• Fail-safe that catches variables that are not accounted for\n",
        "\n",
        "\n",
        "Elif (else if)\n",
        "\t• Handles multiple inputs\n",
        "\t• Used for other cases outside of if\n",
        "\t• Can add as many elif statements\n",
        "\t• Python code block can have\n",
        "\t\t○ 1 if statement\n",
        "\t\t○ Multiple elif statements\n",
        "\t\t○ 1 else statement (accounting for anything not in if/elif)\n",
        "\"\"\"\n",
        "\n",
        "field = \"Textual Scholarship\"\n",
        "if field ==  \"Media Studies\":\n",
        "    print(\"Grammophone, Film, Typewriter\")\n",
        "elif field == \"Critical University Studies\":\n",
        "    print(\"The Undercommons\")\n",
        "elif field == \"Textual Scholarship\":\n",
        "    print(\"Radiant Textuality\")\n",
        "else:\n",
        "    print(\"I don't know what field you're talking about! I'm just a little program...\")"
      ],
      "metadata": {
        "colab": {
          "base_uri": "https://localhost:8080/"
        },
        "id": "reG_4j96Bd5w",
        "outputId": "6f86a1c4-5130-4859-e106-e5aa5cdfe57e"
      },
      "execution_count": null,
      "outputs": [
        {
          "output_type": "stream",
          "name": "stdout",
          "text": [
            "Radiant Textuality\n"
          ]
        }
      ]
    },
    {
      "cell_type": "code",
      "source": [
        "#INPUT()\n",
        "\"\"\"\t• Can take input directly from the user using the input() function\n",
        "\t• Assign variable name to input() function\n",
        "\t\t○ Field = input()\n",
        "\t• Include a prompt\n",
        "\t\t○ Input('What field do you want to study?')\n",
        "\t• Get a popup that lets you respond to the prompt\n",
        "\t\t○ \"Textual Scholarship\"\n",
        "\t• If else conditional result shows up in the REPL (terminal)\n",
        "\"\"\"\n",
        "\n",
        "field = input(\"What field do you want to study?\") # will create a popup that asks for input\n",
        "if field ==  \"Media Studies\":\n",
        "    print(\"Grammophone, Film, Typewriter\")\n",
        "elif field == \"Critical University Studies\":\n",
        "    print(\"The Undercommons\")\n",
        "elif field == \"Textual Scholarship\":\n",
        "    print(\"Radiant Textuality\")\n",
        "else:\n",
        "    print(\"I don't know what field you're talking about! I'm just a little program...\")"
      ],
      "metadata": {
        "colab": {
          "base_uri": "https://localhost:8080/"
        },
        "id": "WhRLy4nbBkTh",
        "outputId": "8958636d-5721-4cf3-8747-c9caa12dd7e0"
      },
      "execution_count": null,
      "outputs": [
        {
          "output_type": "stream",
          "name": "stdout",
          "text": [
            "What field do you want to study?Critical University Studies\n",
            "The Undercommons\n"
          ]
        }
      ]
    },
    {
      "cell_type": "code",
      "source": [
        "# Use this to calculate length of an input\n",
        "#length_response = len(input())"
      ],
      "metadata": {
        "id": "TlSgjityBxdL"
      },
      "execution_count": null,
      "outputs": []
    },
    {
      "cell_type": "markdown",
      "source": [
        "## Doing things to lists"
      ],
      "metadata": {
        "id": "CG2MPtiZXvCs"
      }
    },
    {
      "cell_type": "code",
      "source": [
        "#CREATE LIST AND MANIPULATE IT IN VARIOUS WAYS\n",
        "\n",
        "# Create list\n",
        "library = ['Night', 'Rebecca', '1984', 'The Awakening', 'Animal Farm', 'Catcher in the Rye', 'The Color Purple', 'Vampire Diaries']\n",
        "print(library)"
      ],
      "metadata": {
        "id": "9pWBClz4CoNo",
        "colab": {
          "base_uri": "https://localhost:8080/"
        },
        "outputId": "c8011c21-875e-4e44-ae1b-d8e888c3f1c7"
      },
      "execution_count": 2,
      "outputs": [
        {
          "output_type": "stream",
          "name": "stdout",
          "text": [
            "['Night', 'Rebecca', '1984', 'The Awakening', 'Animal Farm', 'Catcher in the Rye', 'The Color Purple', 'Vampire Diaries']\n"
          ]
        }
      ]
    },
    {
      "cell_type": "markdown",
      "source": [
        "### Methods\n",
        "- Like functions but connected to objects\n",
        "- Objects are part of object-oriented-programming\n",
        "- Period operator - applies a task to whatever precedes that period\n",
        "- Using () after sort allows for the inclusion of arguments, which lets you do more powerful actions to the data"
      ],
      "metadata": {
        "id": "o6CBpoSKX85U"
      }
    },
    {
      "cell_type": "code",
      "source": [
        "# Use sort() method to sort alphabetically\n",
        "\n",
        "library.sort()\n",
        "print(library)"
      ],
      "metadata": {
        "colab": {
          "base_uri": "https://localhost:8080/"
        },
        "id": "3w0LvwslX8JV",
        "outputId": "b04166c0-c482-4240-fc6d-8ff59981b360"
      },
      "execution_count": 3,
      "outputs": [
        {
          "output_type": "stream",
          "name": "stdout",
          "text": [
            "['1984', 'Animal Farm', 'Catcher in the Rye', 'Night', 'Rebecca', 'The Awakening', 'The Color Purple', 'Vampire Diaries']\n"
          ]
        }
      ]
    },
    {
      "cell_type": "code",
      "source": [
        "# Use append() method to add another item to the library list - new item shows up at the end of list\n",
        "library.append('How To Be Black')\n",
        "print(library)"
      ],
      "metadata": {
        "colab": {
          "base_uri": "https://localhost:8080/"
        },
        "id": "FZrS-DMXX_Qv",
        "outputId": "0d1f1552-03f9-4ce0-9157-0600c9a2b3f3"
      },
      "execution_count": 4,
      "outputs": [
        {
          "output_type": "stream",
          "name": "stdout",
          "text": [
            "['1984', 'Animal Farm', 'Catcher in the Rye', 'Night', 'Rebecca', 'The Awakening', 'The Color Purple', 'Vampire Diaries', 'How To Be Black']\n"
          ]
        }
      ]
    },
    {
      "cell_type": "code",
      "source": [
        "# Append more books\n",
        "library.append('Dream of Spring')\n",
        "library.append('The Godfather')\n",
        "library.append('Forrest Gump')\n",
        "print(library)"
      ],
      "metadata": {
        "colab": {
          "base_uri": "https://localhost:8080/"
        },
        "id": "3PxWvvkdYGFf",
        "outputId": "6cdd4fa3-cd07-4cd4-c1e1-f7520198572d"
      },
      "execution_count": 5,
      "outputs": [
        {
          "output_type": "stream",
          "name": "stdout",
          "text": [
            "['1984', 'Animal Farm', 'Catcher in the Rye', 'Night', 'Rebecca', 'The Awakening', 'The Color Purple', 'Vampire Diaries', 'How To Be Black', 'Dream of Spring', 'The Godfather', 'Forrest Gump']\n"
          ]
        }
      ]
    },
    {
      "cell_type": "code",
      "source": [
        "# Use pop() method to remove the last item on the list\n",
        "library.pop()\n",
        "print(library)"
      ],
      "metadata": {
        "colab": {
          "base_uri": "https://localhost:8080/"
        },
        "id": "VDeXh0iYYGRj",
        "outputId": "272c2410-0704-4a42-f791-18d513f45a86"
      },
      "execution_count": 6,
      "outputs": [
        {
          "output_type": "stream",
          "name": "stdout",
          "text": [
            "['1984', 'Animal Farm', 'Catcher in the Rye', 'Night', 'Rebecca', 'The Awakening', 'The Color Purple', 'Vampire Diaries', 'How To Be Black', 'Dream of Spring', 'The Godfather']\n"
          ]
        }
      ]
    },
    {
      "cell_type": "markdown",
      "source": [
        "### Challenge\n",
        "- Create input() function and conditional that performs an action based on the response entered\n",
        "- Create list\n",
        "- Add an input statement that saves response to a variable, called response\n",
        "- Create conditional statement that matches user's response: sort, append, pop"
      ],
      "metadata": {
        "id": "v4o3QS_OYOeo"
      }
    },
    {
      "cell_type": "code",
      "source": [
        "library"
      ],
      "metadata": {
        "colab": {
          "base_uri": "https://localhost:8080/"
        },
        "id": "vAm-xo6AYGdb",
        "outputId": "db710809-789d-42e2-a97f-412a8030e21d"
      },
      "execution_count": 7,
      "outputs": [
        {
          "output_type": "execute_result",
          "data": {
            "text/plain": [
              "['1984',\n",
              " 'Animal Farm',\n",
              " 'Catcher in the Rye',\n",
              " 'Night',\n",
              " 'Rebecca',\n",
              " 'The Awakening',\n",
              " 'The Color Purple',\n",
              " 'Vampire Diaries',\n",
              " 'How To Be Black',\n",
              " 'Dream of Spring',\n",
              " 'The Godfather']"
            ]
          },
          "metadata": {},
          "execution_count": 7
        }
      ]
    },
    {
      "cell_type": "code",
      "source": [
        "library\n",
        "\n",
        "#create input\n",
        "response = input(\"What do you want to do with your books today?\")\n",
        "\n",
        "# Create conditional that performs an action based on response\n",
        "# sort library alphabetically\n",
        "# append item to list\n",
        "# remove the last item\n",
        "if response == \"sort\":\n",
        "    library.sort()\n",
        "    print(library)\n",
        "elif response == \"add\":\n",
        "    print(library.append('King Lear'))\n",
        "elif response == 'remove':\n",
        "    print(library.pop())\n",
        "else:\n",
        "    print(\"I don't know what you want me to do!\")"
      ],
      "metadata": {
        "colab": {
          "base_uri": "https://localhost:8080/"
        },
        "id": "PQSPd0loYLUG",
        "outputId": "f79c0bfc-2e4a-4e6f-c79a-70d62ac5197a"
      },
      "execution_count": 11,
      "outputs": [
        {
          "output_type": "stream",
          "name": "stdout",
          "text": [
            "What do you want to do with your books today?pop\n",
            "Vampire Diaries\n"
          ]
        }
      ]
    },
    {
      "cell_type": "code",
      "source": [
        "# Use .lower() method on response variable to make sure that all cases are accepted\n",
        "\n",
        "library\n",
        "\n",
        "#create input\n",
        "response = input(\"What do you want to do with your books today?\")\n",
        "\n",
        "# Create conditional that performs an action based on response\n",
        "# sort library alphabetically\n",
        "# append item to list\n",
        "# remove the last item\n",
        "response = response.lower() # make any spelling version lowercase\n",
        "if response == \"sort\":\n",
        "    library.sort()\n",
        "    print(library)\n",
        "elif response == \"add\":\n",
        "    library.append(\"La Frontera\")\n",
        "    print(library)\n",
        "elif response == \"remove\":\n",
        "    library.pop()\n",
        "    print(library)\n",
        "else:\n",
        "    print(\"I don't know what you want me to do!\")"
      ],
      "metadata": {
        "colab": {
          "base_uri": "https://localhost:8080/"
        },
        "id": "hr3nrIghYLls",
        "outputId": "7f6f12c2-e45f-4a8f-fcb2-c2e8d9aedbac"
      },
      "execution_count": 17,
      "outputs": [
        {
          "output_type": "stream",
          "name": "stdout",
          "text": [
            "What do you want to do with your books today?Add\n",
            "['1984', 'Animal Farm', 'Catcher in the Rye', 'Dream of Spring', 'How To Be Black', 'King Lear', 'King Lear', 'Night', 'Rebecca', 'The Awakening', 'The Color Purple', 'The Godfather', 'La Frontera']\n"
          ]
        }
      ]
    },
    {
      "cell_type": "code",
      "source": [
        "# While loop - repeats loop as long as a condition is satisfied\n",
        "# Goal - is user will constantly be prompted for input until they type exit to stop the loop\n",
        "\n",
        "library = ['1984', 'Animal Farm', 'Catcher in the Rye', 'Dream of Spring', 'How To Be Black', 'King Lear', 'King Lear', 'Night', 'Rebecca', 'The Awakening', 'The Color Purple', 'The Godfather', 'La Frontera']\n",
        "keep_going = True\n",
        "while keep_going == True:\n",
        "    response = input(\"What do you want to do with your books today? (sort, add, remove, exit)\")\n",
        "    response = response.lower()\n",
        "    if response == \"sort\":\n",
        "        library.sort()\n",
        "        print(library)\n",
        "    elif response == \"add\":\n",
        "        library.append(\"Romeo and Juliet\")\n",
        "        print(library)\n",
        "    elif response == \"remove\":\n",
        "        library.pop()\n",
        "        print(library)\n",
        "    elif response == \"exit\":\n",
        "        print(library)\n",
        "        keep_going = False\n",
        "    else:\n",
        "        print(\"I don't know what you want me to do!\")"
      ],
      "metadata": {
        "colab": {
          "base_uri": "https://localhost:8080/"
        },
        "id": "lMCPcNkEYLx0",
        "outputId": "d90557b0-d283-4c90-b368-fd0a8895579b"
      },
      "execution_count": 5,
      "outputs": [
        {
          "output_type": "stream",
          "name": "stdout",
          "text": [
            "What do you want to do with your books today? (sort, add, remove, exit)add\n",
            "['1984', 'Animal Farm', 'Catcher in the Rye', 'Dream of Spring', 'How To Be Black', 'King Lear', 'King Lear', 'Night', 'Rebecca', 'The Awakening', 'The Color Purple', 'The Godfather', 'La Frontera', 'Romeo and Juliet']\n",
            "What do you want to do with your books today? (sort, add, remove, exit)sort\n",
            "['1984', 'Animal Farm', 'Catcher in the Rye', 'Dream of Spring', 'How To Be Black', 'King Lear', 'King Lear', 'La Frontera', 'Night', 'Rebecca', 'Romeo and Juliet', 'The Awakening', 'The Color Purple', 'The Godfather']\n",
            "What do you want to do with your books today? (sort, add, remove, exit)remove\n",
            "['1984', 'Animal Farm', 'Catcher in the Rye', 'Dream of Spring', 'How To Be Black', 'King Lear', 'King Lear', 'La Frontera', 'Night', 'Rebecca', 'Romeo and Juliet', 'The Awakening', 'The Color Purple']\n",
            "What do you want to do with your books today? (sort, add, remove, exit)exit\n",
            "['1984', 'Animal Farm', 'Catcher in the Rye', 'Dream of Spring', 'How To Be Black', 'King Lear', 'King Lear', 'La Frontera', 'Night', 'Rebecca', 'Romeo and Juliet', 'The Awakening', 'The Color Purple']\n"
          ]
        }
      ]
    },
    {
      "cell_type": "code",
      "source": [
        "'hello'.upper()"
      ],
      "metadata": {
        "colab": {
          "base_uri": "https://localhost:8080/",
          "height": 35
        },
        "id": "--MOgxW4H2xr",
        "outputId": "776f8347-18bb-48a7-bd4a-229cc42e7f0c"
      },
      "execution_count": 7,
      "outputs": [
        {
          "output_type": "execute_result",
          "data": {
            "text/plain": [
              "'HELLO'"
            ],
            "application/vnd.google.colaboratory.intrinsic+json": {
              "type": "string"
            }
          },
          "metadata": {},
          "execution_count": 7
        }
      ]
    },
    {
      "cell_type": "markdown",
      "source": [
        "### Importing module\n",
        "- Use built-in module: random module\n",
        "- Import module\n",
        "- Each time you run the code, you should see a different motivational phrase as output\n",
        "- random.choice function chooses a random item from a list and returns it\n",
        "- . syntax indicates that the function is coming from the random library"
      ],
      "metadata": {
        "id": "B6_vX1_HPzQg"
      }
    },
    {
      "cell_type": "code",
      "source": [
        "import random\n",
        "\n",
        "motivational_phrases = ['Importing modules is easy!', 'Programming! Yay!', 'You write lists like a pro']\n",
        "\n",
        "# random.choice function chooses a random item from a list and returns it\n",
        "# . syntax indicates that the function is coming from the random library\n",
        "print(random.choice(motivational_phrases))"
      ],
      "metadata": {
        "colab": {
          "base_uri": "https://localhost:8080/"
        },
        "id": "F4bjUyG6H47J",
        "outputId": "130e67d1-c92b-47c0-cec9-063065ebd951"
      },
      "execution_count": 8,
      "outputs": [
        {
          "output_type": "stream",
          "name": "stdout",
          "text": [
            "Importing modules is easy!\n"
          ]
        }
      ]
    },
    {
      "cell_type": "markdown",
      "source": [
        "### Examining objects\n",
        "- \tHow can you learn about an object's methods and attributes\n",
        "-   Read the docs\n",
        "-\t\tUse dir() function - tells what methods/attributes are available\n",
        "--\t\tShows the most important ones, not an exhaustive list\n",
        "--\t\tIgnore methods/attributes that have underscores around them\n",
        "--\t\tFocus on ones that are surrounded by single quotes"
      ],
      "metadata": {
        "id": "9buYzCi7Q-mV"
      }
    },
    {
      "cell_type": "code",
      "source": [
        "# dir() function tells what methods/attributes are available\n",
        "\n",
        "s = 'hello world'\n",
        "dir(s)"
      ],
      "metadata": {
        "colab": {
          "base_uri": "https://localhost:8080/"
        },
        "id": "afBnYiKLP6iN",
        "outputId": "563ad7a0-678c-4887-bc62-f76540315542"
      },
      "execution_count": 10,
      "outputs": [
        {
          "output_type": "execute_result",
          "data": {
            "text/plain": [
              "['__add__',\n",
              " '__class__',\n",
              " '__contains__',\n",
              " '__delattr__',\n",
              " '__dir__',\n",
              " '__doc__',\n",
              " '__eq__',\n",
              " '__format__',\n",
              " '__ge__',\n",
              " '__getattribute__',\n",
              " '__getitem__',\n",
              " '__getnewargs__',\n",
              " '__getstate__',\n",
              " '__gt__',\n",
              " '__hash__',\n",
              " '__init__',\n",
              " '__init_subclass__',\n",
              " '__iter__',\n",
              " '__le__',\n",
              " '__len__',\n",
              " '__lt__',\n",
              " '__mod__',\n",
              " '__mul__',\n",
              " '__ne__',\n",
              " '__new__',\n",
              " '__reduce__',\n",
              " '__reduce_ex__',\n",
              " '__repr__',\n",
              " '__rmod__',\n",
              " '__rmul__',\n",
              " '__setattr__',\n",
              " '__sizeof__',\n",
              " '__str__',\n",
              " '__subclasshook__',\n",
              " 'capitalize',\n",
              " 'casefold',\n",
              " 'center',\n",
              " 'count',\n",
              " 'encode',\n",
              " 'endswith',\n",
              " 'expandtabs',\n",
              " 'find',\n",
              " 'format',\n",
              " 'format_map',\n",
              " 'index',\n",
              " 'isalnum',\n",
              " 'isalpha',\n",
              " 'isascii',\n",
              " 'isdecimal',\n",
              " 'isdigit',\n",
              " 'isidentifier',\n",
              " 'islower',\n",
              " 'isnumeric',\n",
              " 'isprintable',\n",
              " 'isspace',\n",
              " 'istitle',\n",
              " 'isupper',\n",
              " 'join',\n",
              " 'ljust',\n",
              " 'lower',\n",
              " 'lstrip',\n",
              " 'maketrans',\n",
              " 'partition',\n",
              " 'removeprefix',\n",
              " 'removesuffix',\n",
              " 'replace',\n",
              " 'rfind',\n",
              " 'rindex',\n",
              " 'rjust',\n",
              " 'rpartition',\n",
              " 'rsplit',\n",
              " 'rstrip',\n",
              " 'split',\n",
              " 'splitlines',\n",
              " 'startswith',\n",
              " 'strip',\n",
              " 'swapcase',\n",
              " 'title',\n",
              " 'translate',\n",
              " 'upper',\n",
              " 'zfill']"
            ]
          },
          "metadata": {},
          "execution_count": 10
        }
      ]
    },
    {
      "cell_type": "code",
      "source": [
        "# use dir() to see available functions in imported libraries\n",
        "import random\n",
        "\n",
        "dir(random)"
      ],
      "metadata": {
        "colab": {
          "base_uri": "https://localhost:8080/"
        },
        "id": "u5lNvTFkQBNF",
        "outputId": "616d5136-f3fa-4e17-fb0a-8991ec1b4593"
      },
      "execution_count": 11,
      "outputs": [
        {
          "output_type": "execute_result",
          "data": {
            "text/plain": [
              "['BPF',\n",
              " 'LOG4',\n",
              " 'NV_MAGICCONST',\n",
              " 'RECIP_BPF',\n",
              " 'Random',\n",
              " 'SG_MAGICCONST',\n",
              " 'SystemRandom',\n",
              " 'TWOPI',\n",
              " '_ONE',\n",
              " '_Sequence',\n",
              " '_Set',\n",
              " '__all__',\n",
              " '__builtins__',\n",
              " '__cached__',\n",
              " '__doc__',\n",
              " '__file__',\n",
              " '__loader__',\n",
              " '__name__',\n",
              " '__package__',\n",
              " '__spec__',\n",
              " '_accumulate',\n",
              " '_acos',\n",
              " '_bisect',\n",
              " '_ceil',\n",
              " '_cos',\n",
              " '_e',\n",
              " '_exp',\n",
              " '_floor',\n",
              " '_index',\n",
              " '_inst',\n",
              " '_isfinite',\n",
              " '_log',\n",
              " '_os',\n",
              " '_pi',\n",
              " '_random',\n",
              " '_repeat',\n",
              " '_sha512',\n",
              " '_sin',\n",
              " '_sqrt',\n",
              " '_test',\n",
              " '_test_generator',\n",
              " '_urandom',\n",
              " '_warn',\n",
              " 'betavariate',\n",
              " 'choice',\n",
              " 'choices',\n",
              " 'expovariate',\n",
              " 'gammavariate',\n",
              " 'gauss',\n",
              " 'getrandbits',\n",
              " 'getstate',\n",
              " 'lognormvariate',\n",
              " 'normalvariate',\n",
              " 'paretovariate',\n",
              " 'randbytes',\n",
              " 'randint',\n",
              " 'random',\n",
              " 'randrange',\n",
              " 'sample',\n",
              " 'seed',\n",
              " 'setstate',\n",
              " 'shuffle',\n",
              " 'triangular',\n",
              " 'uniform',\n",
              " 'vonmisesvariate',\n",
              " 'weibullvariate']"
            ]
          },
          "metadata": {},
          "execution_count": 11
        }
      ]
    },
    {
      "cell_type": "code",
      "source": [
        "# see what methods are available for lists\n",
        "dir([1, 2, 3]) # 'append','clear','copy','count','extend','index','insert','pop','remove','reverse','sort'"
      ],
      "metadata": {
        "colab": {
          "base_uri": "https://localhost:8080/"
        },
        "id": "18ycRrCWRcTS",
        "outputId": "18af9276-05cf-4162-832e-6c142b79951c"
      },
      "execution_count": 12,
      "outputs": [
        {
          "output_type": "execute_result",
          "data": {
            "text/plain": [
              "['__add__',\n",
              " '__class__',\n",
              " '__class_getitem__',\n",
              " '__contains__',\n",
              " '__delattr__',\n",
              " '__delitem__',\n",
              " '__dir__',\n",
              " '__doc__',\n",
              " '__eq__',\n",
              " '__format__',\n",
              " '__ge__',\n",
              " '__getattribute__',\n",
              " '__getitem__',\n",
              " '__getstate__',\n",
              " '__gt__',\n",
              " '__hash__',\n",
              " '__iadd__',\n",
              " '__imul__',\n",
              " '__init__',\n",
              " '__init_subclass__',\n",
              " '__iter__',\n",
              " '__le__',\n",
              " '__len__',\n",
              " '__lt__',\n",
              " '__mul__',\n",
              " '__ne__',\n",
              " '__new__',\n",
              " '__reduce__',\n",
              " '__reduce_ex__',\n",
              " '__repr__',\n",
              " '__reversed__',\n",
              " '__rmul__',\n",
              " '__setattr__',\n",
              " '__setitem__',\n",
              " '__sizeof__',\n",
              " '__str__',\n",
              " '__subclasshook__',\n",
              " 'append',\n",
              " 'clear',\n",
              " 'copy',\n",
              " 'count',\n",
              " 'extend',\n",
              " 'index',\n",
              " 'insert',\n",
              " 'pop',\n",
              " 'remove',\n",
              " 'reverse',\n",
              " 'sort']"
            ]
          },
          "metadata": {},
          "execution_count": 12
        }
      ]
    },
    {
      "cell_type": "markdown",
      "source": [
        "### Challenge\n",
        "- Roll die 2x, store each result\n",
        "- Write program that prints each roll & compares them\n",
        "- If 1st roll > 2nd, print \"first roll wins\"\n",
        "- If 2nd roll > 1st, print \"second roll wins\"\n",
        "- If rolls are equal, print tie\n",
        "\n",
        "\n"
      ],
      "metadata": {
        "id": "O58nE3lVcyy8"
      }
    },
    {
      "cell_type": "code",
      "source": [
        "import random\n",
        "\n",
        "def roll():\n",
        "    return random.randint(1, 6) #return random int from 1-6\n",
        "\n",
        "# Rolls the die\n",
        "die1 = roll()\n",
        "die2 = roll()\n",
        "# Create print statements using f-string\n",
        "print(\"The first roll is a {die1}\")\n",
        "print(\"The second roll is a {die2}\")\n",
        "\n",
        "# Create conditional for which results will print\n",
        "if die1 > die2:\n",
        "    print(\"First roll wins\")\n",
        "elif die2 > die1:\n",
        "    print(\"Second roll wins\")\n",
        "else:\n",
        "    print(\"Tie results\")"
      ],
      "metadata": {
        "colab": {
          "base_uri": "https://localhost:8080/"
        },
        "id": "7BtTnhlORk87",
        "outputId": "f85e53c3-5348-4d32-beff-d01202764cdd"
      },
      "execution_count": 15,
      "outputs": [
        {
          "output_type": "stream",
          "name": "stdout",
          "text": [
            "The first roll is a {die1}\n",
            "The second roll is a {die2}\n",
            "Tie results\n"
          ]
        },
        {
          "output_type": "execute_result",
          "data": {
            "text/plain": [
              "3"
            ]
          },
          "metadata": {},
          "execution_count": 15
        }
      ]
    }
  ]
}